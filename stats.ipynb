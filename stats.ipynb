{
 "cells": [
  {
   "cell_type": "code",
   "execution_count": 1,
   "metadata": {},
   "outputs": [],
   "source": [
    "from pathlib import Path\n",
    "import pandas as pd\n",
    "import scipy.stats as stats\n",
    "import numpy as np"
   ]
  },
  {
   "cell_type": "code",
   "execution_count": 2,
   "metadata": {},
   "outputs": [
    {
     "data": {
      "text/html": [
       "<div>\n",
       "<style scoped>\n",
       "    .dataframe tbody tr th:only-of-type {\n",
       "        vertical-align: middle;\n",
       "    }\n",
       "\n",
       "    .dataframe tbody tr th {\n",
       "        vertical-align: top;\n",
       "    }\n",
       "\n",
       "    .dataframe thead th {\n",
       "        text-align: right;\n",
       "    }\n",
       "</style>\n",
       "<table border=\"1\" class=\"dataframe\">\n",
       "  <thead>\n",
       "    <tr style=\"text-align: right;\">\n",
       "      <th></th>\n",
       "      <th>Number Insured</th>\n",
       "      <th>Number Uninsured</th>\n",
       "      <th>Income Category</th>\n",
       "      <th>County</th>\n",
       "      <th>Percentage Insured</th>\n",
       "      <th>Percentage Uninsured</th>\n",
       "    </tr>\n",
       "  </thead>\n",
       "  <tbody>\n",
       "    <tr>\n",
       "      <th>0</th>\n",
       "      <td>40193</td>\n",
       "      <td>2507</td>\n",
       "      <td>Over 400% of Poverty</td>\n",
       "      <td>Alamance County, NC</td>\n",
       "      <td>94.128806</td>\n",
       "      <td>5.871194</td>\n",
       "    </tr>\n",
       "    <tr>\n",
       "      <th>1</th>\n",
       "      <td>27025</td>\n",
       "      <td>3960</td>\n",
       "      <td>250% to 400% of Poverty</td>\n",
       "      <td>Alamance County, NC</td>\n",
       "      <td>87.219622</td>\n",
       "      <td>12.780378</td>\n",
       "    </tr>\n",
       "    <tr>\n",
       "      <th>2</th>\n",
       "      <td>9624</td>\n",
       "      <td>2305</td>\n",
       "      <td>200% to 250% of Poverty</td>\n",
       "      <td>Alamance County, NC</td>\n",
       "      <td>80.677341</td>\n",
       "      <td>19.322659</td>\n",
       "    </tr>\n",
       "    <tr>\n",
       "      <th>3</th>\n",
       "      <td>12797</td>\n",
       "      <td>3519</td>\n",
       "      <td>138% to 200% of Poverty</td>\n",
       "      <td>Alamance County, NC</td>\n",
       "      <td>78.432214</td>\n",
       "      <td>21.567786</td>\n",
       "    </tr>\n",
       "    <tr>\n",
       "      <th>4</th>\n",
       "      <td>24827</td>\n",
       "      <td>7531</td>\n",
       "      <td>Under 138% of Poverty</td>\n",
       "      <td>Alamance County, NC</td>\n",
       "      <td>76.726003</td>\n",
       "      <td>23.273997</td>\n",
       "    </tr>\n",
       "    <tr>\n",
       "      <th>...</th>\n",
       "      <td>...</td>\n",
       "      <td>...</td>\n",
       "      <td>...</td>\n",
       "      <td>...</td>\n",
       "      <td>...</td>\n",
       "      <td>...</td>\n",
       "    </tr>\n",
       "    <tr>\n",
       "      <th>995</th>\n",
       "      <td>3062</td>\n",
       "      <td>236</td>\n",
       "      <td>Over 400% of Poverty</td>\n",
       "      <td>Yancey County, NC</td>\n",
       "      <td>92.844148</td>\n",
       "      <td>7.155852</td>\n",
       "    </tr>\n",
       "    <tr>\n",
       "      <th>996</th>\n",
       "      <td>2782</td>\n",
       "      <td>362</td>\n",
       "      <td>250% to 400% of Poverty</td>\n",
       "      <td>Yancey County, NC</td>\n",
       "      <td>88.486005</td>\n",
       "      <td>11.513995</td>\n",
       "    </tr>\n",
       "    <tr>\n",
       "      <th>997</th>\n",
       "      <td>1056</td>\n",
       "      <td>227</td>\n",
       "      <td>200% to 250% of Poverty</td>\n",
       "      <td>Yancey County, NC</td>\n",
       "      <td>82.307093</td>\n",
       "      <td>17.692907</td>\n",
       "    </tr>\n",
       "    <tr>\n",
       "      <th>998</th>\n",
       "      <td>1556</td>\n",
       "      <td>407</td>\n",
       "      <td>138% to 200% of Poverty</td>\n",
       "      <td>Yancey County, NC</td>\n",
       "      <td>79.266429</td>\n",
       "      <td>20.733571</td>\n",
       "    </tr>\n",
       "    <tr>\n",
       "      <th>999</th>\n",
       "      <td>2633</td>\n",
       "      <td>837</td>\n",
       "      <td>Under 138% of Poverty</td>\n",
       "      <td>Yancey County, NC</td>\n",
       "      <td>75.878963</td>\n",
       "      <td>24.121037</td>\n",
       "    </tr>\n",
       "  </tbody>\n",
       "</table>\n",
       "<p>1000 rows × 6 columns</p>\n",
       "</div>"
      ],
      "text/plain": [
       "     Number Insured  Number Uninsured          Income Category  \\\n",
       "0             40193              2507     Over 400% of Poverty   \n",
       "1             27025              3960  250% to 400% of Poverty   \n",
       "2              9624              2305  200% to 250% of Poverty   \n",
       "3             12797              3519  138% to 200% of Poverty   \n",
       "4             24827              7531    Under 138% of Poverty   \n",
       "..              ...               ...                      ...   \n",
       "995            3062               236     Over 400% of Poverty   \n",
       "996            2782               362  250% to 400% of Poverty   \n",
       "997            1056               227  200% to 250% of Poverty   \n",
       "998            1556               407  138% to 200% of Poverty   \n",
       "999            2633               837    Under 138% of Poverty   \n",
       "\n",
       "                  County  Percentage Insured  Percentage Uninsured  \n",
       "0    Alamance County, NC           94.128806              5.871194  \n",
       "1    Alamance County, NC           87.219622             12.780378  \n",
       "2    Alamance County, NC           80.677341             19.322659  \n",
       "3    Alamance County, NC           78.432214             21.567786  \n",
       "4    Alamance County, NC           76.726003             23.273997  \n",
       "..                   ...                 ...                   ...  \n",
       "995    Yancey County, NC           92.844148              7.155852  \n",
       "996    Yancey County, NC           88.486005             11.513995  \n",
       "997    Yancey County, NC           82.307093             17.692907  \n",
       "998    Yancey County, NC           79.266429             20.733571  \n",
       "999    Yancey County, NC           75.878963             24.121037  \n",
       "\n",
       "[1000 rows x 6 columns]"
      ]
     },
     "execution_count": 2,
     "metadata": {},
     "output_type": "execute_result"
    }
   ],
   "source": [
    "path = Path(\"clean_insurance_by_income.csv\")\n",
    "\n",
    "ins_cov_df = pd.read_csv(path)\n",
    "ins_cov_df"
   ]
  },
  {
   "cell_type": "code",
   "execution_count": 3,
   "metadata": {},
   "outputs": [
    {
     "data": {
      "text/plain": [
       "93.04258427990113"
      ]
     },
     "execution_count": 3,
     "metadata": {},
     "output_type": "execute_result"
    }
   ],
   "source": [
    "high_income = ins_cov_df[ins_cov_df[\"Income Category\"] == \"Over 400% of Poverty\"]\n",
    "high_income[\"Percentage Insured\"].mean()"
   ]
  },
  {
   "cell_type": "code",
   "execution_count": 4,
   "metadata": {},
   "outputs": [
    {
     "data": {
      "text/plain": [
       "78.1576905934784"
      ]
     },
     "execution_count": 4,
     "metadata": {},
     "output_type": "execute_result"
    }
   ],
   "source": [
    "low_income = ins_cov_df[ins_cov_df[\"Income Category\"] == \"Under 138% of Poverty\"]\n",
    "low_income[\"Percentage Insured\"].mean()"
   ]
  },
  {
   "cell_type": "code",
   "execution_count": 5,
   "metadata": {},
   "outputs": [
    {
     "data": {
      "text/plain": [
       "Ttest_indResult(statistic=54.27836887350606, pvalue=2.301143200959718e-160)"
      ]
     },
     "execution_count": 5,
     "metadata": {},
     "output_type": "execute_result"
    }
   ],
   "source": [
    "stats.ttest_ind(high_income[\"Percentage Insured\"], low_income[\"Percentage Insured\"], equal_var=False)"
   ]
  }
 ],
 "metadata": {
  "kernelspec": {
   "display_name": "dev",
   "language": "python",
   "name": "python3"
  },
  "language_info": {
   "codemirror_mode": {
    "name": "ipython",
    "version": 3
   },
   "file_extension": ".py",
   "mimetype": "text/x-python",
   "name": "python",
   "nbconvert_exporter": "python",
   "pygments_lexer": "ipython3",
   "version": "3.10.11"
  },
  "orig_nbformat": 4
 },
 "nbformat": 4,
 "nbformat_minor": 2
}
